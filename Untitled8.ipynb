{
  "nbformat": 4,
  "nbformat_minor": 0,
  "metadata": {
    "colab": {
      "name": "Untitled8.ipynb",
      "provenance": [],
      "collapsed_sections": [],
      "authorship_tag": "ABX9TyM9ixYu5mwhPgVwzJFHg6Js",
      "include_colab_link": true
    },
    "kernelspec": {
      "name": "python3",
      "display_name": "Python 3"
    }
  },
  "cells": [
    {
      "cell_type": "markdown",
      "metadata": {
        "id": "view-in-github",
        "colab_type": "text"
      },
      "source": [
        "<a href=\"https://colab.research.google.com/github/manvij1612/minor-project/blob/master/Untitled8.ipynb\" target=\"_parent\"><img src=\"https://colab.research.google.com/assets/colab-badge.svg\" alt=\"Open In Colab\"/></a>"
      ]
    },
    {
      "cell_type": "code",
      "metadata": {
        "id": "Lpu9tTOWzes6",
        "colab_type": "code",
        "colab": {}
      },
      "source": [
        "import tensorflow as tf\n"
      ],
      "execution_count": null,
      "outputs": []
    },
    {
      "cell_type": "code",
      "metadata": {
        "id": "gSWaB55RzspH",
        "colab_type": "code",
        "colab": {}
      },
      "source": [
        "d=tf.keras.datasets.mnist"
      ],
      "execution_count": null,
      "outputs": []
    },
    {
      "cell_type": "code",
      "metadata": {
        "id": "4TsuT35j045P",
        "colab_type": "code",
        "colab": {
          "base_uri": "https://localhost:8080/",
          "height": 71
        },
        "outputId": "c12289ff-7fb0-42f3-a9cc-214373326a92"
      },
      "source": [
        "(x_train,y_train),(x_test,y_test)= d.load_data()"
      ],
      "execution_count": null,
      "outputs": [
        {
          "output_type": "stream",
          "text": [
            "Downloading data from https://storage.googleapis.com/tensorflow/tf-keras-datasets/mnist.npz\n",
            "11493376/11490434 [==============================] - 0s 0us/step\n"
          ],
          "name": "stdout"
        }
      ]
    },
    {
      "cell_type": "code",
      "metadata": {
        "id": "2H1AHk6m1SO1",
        "colab_type": "code",
        "colab": {
          "base_uri": "https://localhost:8080/",
          "height": 34
        },
        "outputId": "5c4418b5-20b4-4288-e951-dce5c6ab2814"
      },
      "source": [
        "print(x_train.shape, y_train.shape)\n"
      ],
      "execution_count": null,
      "outputs": [
        {
          "output_type": "stream",
          "text": [
            "(60000, 28, 28, 1) (60000, 10)\n"
          ],
          "name": "stdout"
        }
      ]
    },
    {
      "cell_type": "code",
      "metadata": {
        "id": "V_tJ6ePf1yJ-",
        "colab_type": "code",
        "colab": {
          "base_uri": "https://localhost:8080/",
          "height": 34
        },
        "outputId": "f674631d-16d1-457f-c194-2a277d564dd8"
      },
      "source": [
        "x_test.shape"
      ],
      "execution_count": null,
      "outputs": [
        {
          "output_type": "execute_result",
          "data": {
            "text/plain": [
              "(10000, 28, 28)"
            ]
          },
          "metadata": {
            "tags": []
          },
          "execution_count": 6
        }
      ]
    },
    {
      "cell_type": "code",
      "metadata": {
        "id": "CDgTdbi92L4G",
        "colab_type": "code",
        "colab": {}
      },
      "source": [
        "x_train = x_train.reshape(-1, 28, 28, 1)\n",
        "x_test = x_test.reshape(-1, 28, 28, 1)\n",
        "\n",
        "x_train =x_train/ 255\n",
        "x_test =x_test/ 255\n",
        "\n"
      ],
      "execution_count": null,
      "outputs": []
    },
    {
      "cell_type": "code",
      "metadata": {
        "id": "ENdZ2lPy6f3M",
        "colab_type": "code",
        "colab": {}
      },
      "source": [
        "y_train = tf.keras.utils.to_categorical(y_train)\n",
        "y_test = tf.keras.utils.to_categorical(y_test)\n"
      ],
      "execution_count": null,
      "outputs": []
    },
    {
      "cell_type": "code",
      "metadata": {
        "id": "9HfA6-MB_ooH",
        "colab_type": "code",
        "colab": {}
      },
      "source": [
        "model = tf.keras.models.Sequential()\n",
        "model.add(tf.keras.layers.Conv2D(32, kernel_size=(3, 3),padding='same',input_shape=[28,28,1]))\n",
        "model.add(tf.keras.layers.Conv2D(64, (3, 3), padding='same'))\n",
        "model.add(tf.keras.layers.MaxPooling2D(pool_size=(2, 2)))\n",
        "model.add(tf.keras.layers.Dropout(0.25))\n",
        "model.add(tf.keras.layers.Flatten())\n",
        "model.add(tf.keras.layers.Dense(256,activation ='relu'))\n",
        "model.add(tf.keras.layers.Dropout(0.5))\n",
        "model.add(tf.keras.layers.Dense(10,activation='softmax'))"
      ],
      "execution_count": null,
      "outputs": []
    },
    {
      "cell_type": "code",
      "metadata": {
        "id": "CW8OYdx1H_ro",
        "colab_type": "code",
        "colab": {}
      },
      "source": [
        "\n",
        "model.compile(optimizer='Adam',loss = 'categorical_crossentropy',metrics = 'accuracy')"
      ],
      "execution_count": null,
      "outputs": []
    },
    {
      "cell_type": "code",
      "metadata": {
        "id": "GbNofSAlIv47",
        "colab_type": "code",
        "colab": {
          "base_uri": "https://localhost:8080/",
          "height": 1000
        },
        "outputId": "8badbd8b-3c07-42b6-853d-16b93f51af91"
      },
      "source": [
        " history= model.fit(x_train, y_train,validation_data=(x_test,y_test),epochs=10)"
      ],
      "execution_count": null,
      "outputs": [
        {
          "output_type": "stream",
          "text": [
            "Epoch 1/10\n",
            "1875/1875 [==============================] - 235s 125ms/step - loss: 0.2089 - accuracy: 0.9370 - val_loss: 0.0648 - val_accuracy: 0.9796\n",
            "Epoch 2/10\n",
            "1875/1875 [==============================] - 233s 124ms/step - loss: 0.1034 - accuracy: 0.9680 - val_loss: 0.0602 - val_accuracy: 0.9821\n",
            "Epoch 3/10\n",
            "1875/1875 [==============================] - 233s 124ms/step - loss: 0.0839 - accuracy: 0.9739 - val_loss: 0.0585 - val_accuracy: 0.9820\n",
            "Epoch 4/10\n",
            "1875/1875 [==============================] - 234s 125ms/step - loss: 0.0733 - accuracy: 0.9773 - val_loss: 0.0514 - val_accuracy: 0.9847\n",
            "Epoch 5/10\n",
            "1875/1875 [==============================] - 233s 124ms/step - loss: 0.0649 - accuracy: 0.9792 - val_loss: 0.0514 - val_accuracy: 0.9850\n",
            "Epoch 6/10\n",
            "1875/1875 [==============================] - 234s 125ms/step - loss: 0.0606 - accuracy: 0.9813 - val_loss: 0.0484 - val_accuracy: 0.9854\n",
            "Epoch 7/10\n",
            "1875/1875 [==============================] - 233s 124ms/step - loss: 0.0554 - accuracy: 0.9831 - val_loss: 0.0514 - val_accuracy: 0.9851\n",
            "Epoch 8/10\n",
            "1875/1875 [==============================] - 233s 124ms/step - loss: 0.0523 - accuracy: 0.9848 - val_loss: 0.0612 - val_accuracy: 0.9849\n",
            "Epoch 9/10\n",
            "1875/1875 [==============================] - 233s 125ms/step - loss: 0.0528 - accuracy: 0.9833 - val_loss: 0.0535 - val_accuracy: 0.9854\n",
            "Epoch 10/10\n",
            "1875/1875 [==============================] - 235s 125ms/step - loss: 0.0472 - accuracy: 0.9862 - val_loss: 0.0587 - val_accuracy: 0.9855\n"
          ],
          "name": "stdout"
        }
      ]
    },
    {
      "cell_type": "code",
      "metadata": {
        "id": "nuy2MccbEptp",
        "colab_type": "code",
        "colab": {
          "base_uri": "https://localhost:8080/",
          "height": 74
        },
        "outputId": "5e296cac-2305-4afc-80eb-758bfb9a71f7"
      },
      "source": [
        "test_loss,test_acc = model.evaluate(x_test, y_test)\n",
        "print('Test accuracy:', test_acc)"
      ],
      "execution_count": null,
      "outputs": [
        {
          "output_type": "stream",
          "text": [
            "313/313 [==============================] - 9s 28ms/step - loss: 0.0587 - accuracy: 0.9855\n",
            "Test accuracy: 0.9854999780654907\n"
          ],
          "name": "stdout"
        }
      ]
    },
    {
      "cell_type": "code",
      "metadata": {
        "id": "5aG4NaDCFRTk",
        "colab_type": "code",
        "colab": {
          "base_uri": "https://localhost:8080/",
          "height": 128
        },
        "outputId": "1d4c8d4c-23a7-4bc0-9eec-e4342f3bd71c"
      },
      "source": [
        "y_pred = model.predict_classes(x_test)\n",
        "y_pred"
      ],
      "execution_count": null,
      "outputs": [
        {
          "output_type": "stream",
          "text": [
            "WARNING:tensorflow:From <ipython-input-14-41a58b04bb02>:1: Sequential.predict_classes (from tensorflow.python.keras.engine.sequential) is deprecated and will be removed after 2021-01-01.\n",
            "Instructions for updating:\n",
            "Please use instead:* `np.argmax(model.predict(x), axis=-1)`,   if your model does multi-class classification   (e.g. if it uses a `softmax` last-layer activation).* `(model.predict(x) > 0.5).astype(\"int32\")`,   if your model does binary classification   (e.g. if it uses a `sigmoid` last-layer activation).\n"
          ],
          "name": "stdout"
        },
        {
          "output_type": "execute_result",
          "data": {
            "text/plain": [
              "array([7, 2, 1, ..., 4, 5, 6])"
            ]
          },
          "metadata": {
            "tags": []
          },
          "execution_count": 14
        }
      ]
    },
    {
      "cell_type": "code",
      "metadata": {
        "id": "-kq0qDId7e7V",
        "colab_type": "code",
        "colab": {
          "base_uri": "https://localhost:8080/",
          "height": 34
        },
        "outputId": "3281f7e0-7371-4ba8-d9ad-cf014464f856"
      },
      "source": [
        "y_pred[0]"
      ],
      "execution_count": null,
      "outputs": [
        {
          "output_type": "execute_result",
          "data": {
            "text/plain": [
              "7"
            ]
          },
          "metadata": {
            "tags": []
          },
          "execution_count": 15
        }
      ]
    },
    {
      "cell_type": "code",
      "metadata": {
        "id": "jJSm7jL07zZY",
        "colab_type": "code",
        "colab": {
          "base_uri": "https://localhost:8080/",
          "height": 34
        },
        "outputId": "3ba8414a-8b83-4a0c-89f5-c8a8a4ac53c2"
      },
      "source": [
        "import numpy as np\n",
        "\n",
        "np.argmax(y_pred[0])"
      ],
      "execution_count": null,
      "outputs": [
        {
          "output_type": "execute_result",
          "data": {
            "text/plain": [
              "0"
            ]
          },
          "metadata": {
            "tags": []
          },
          "execution_count": 16
        }
      ]
    },
    {
      "cell_type": "code",
      "metadata": {
        "id": "FUHiVrnR8ABS",
        "colab_type": "code",
        "colab": {
          "base_uri": "https://localhost:8080/",
          "height": 34
        },
        "outputId": "d3250421-5a9e-4872-a26b-7f8bedf15cfa"
      },
      "source": [
        "np.argmax(model.predict(x_test), axis=-1)"
      ],
      "execution_count": null,
      "outputs": [
        {
          "output_type": "execute_result",
          "data": {
            "text/plain": [
              "array([7, 2, 1, ..., 4, 5, 6])"
            ]
          },
          "metadata": {
            "tags": []
          },
          "execution_count": 17
        }
      ]
    },
    {
      "cell_type": "code",
      "metadata": {
        "id": "dT3qjYdw9em0",
        "colab_type": "code",
        "colab": {}
      },
      "source": [
        "model.save('miniproject.h5')"
      ],
      "execution_count": null,
      "outputs": []
    }
  ]
}